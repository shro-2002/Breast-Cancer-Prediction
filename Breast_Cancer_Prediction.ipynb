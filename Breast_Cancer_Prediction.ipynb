{
  "nbformat": 4,
  "nbformat_minor": 0,
  "metadata": {
    "colab": {
      "provenance": []
    },
    "kernelspec": {
      "name": "python3",
      "display_name": "Python 3"
    },
    "language_info": {
      "name": "python"
    }
  },
  "cells": [
    {
      "cell_type": "code",
      "execution_count": 2,
      "metadata": {
        "id": "Dn6EJsdSVHVm"
      },
      "outputs": [],
      "source": [
        "import numpy as np\n",
        "import matplotlib.pyplot as plt\n",
        "import pandas as pd\n",
        "from sklearn.metrics import accuracy_score"
      ]
    },
    {
      "cell_type": "code",
      "source": [
        "df = pd.read_csv('cancer.csv')\n",
        "df.replace('?',-99999,inplace=True)\n",
        "df.drop(['id'],1,inplace=True)\n",
        "\n",
        "X=np.array(df.drop(['classes'],1))\n",
        "y=np.array(df['classes'])"
      ],
      "metadata": {
        "colab": {
          "base_uri": "https://localhost:8080/"
        },
        "id": "UBhY_olQW4Er",
        "outputId": "67e09ee4-e1bb-485e-e2ac-fdf7e11ad87a"
      },
      "execution_count": 3,
      "outputs": [
        {
          "output_type": "stream",
          "name": "stderr",
          "text": [
            "/usr/local/lib/python3.7/dist-packages/ipykernel_launcher.py:3: FutureWarning: In a future version of pandas all arguments of DataFrame.drop except for the argument 'labels' will be keyword-only\n",
            "  This is separate from the ipykernel package so we can avoid doing imports until\n",
            "/usr/local/lib/python3.7/dist-packages/ipykernel_launcher.py:5: FutureWarning: In a future version of pandas all arguments of DataFrame.drop except for the argument 'labels' will be keyword-only\n",
            "  \"\"\"\n"
          ]
        }
      ]
    },
    {
      "cell_type": "code",
      "source": [
        "from sklearn.model_selection import train_test_split\n",
        "X_train, X_test, y_train, y_test = train_test_split(X, y, test_size = 0.35, random_state = 42)"
      ],
      "metadata": {
        "id": "Yg7-6R03XJLk"
      },
      "execution_count": 4,
      "outputs": []
    },
    {
      "cell_type": "code",
      "source": [
        "from sklearn.preprocessing import StandardScaler\n",
        "sc = StandardScaler()\n",
        "X_train = sc.fit_transform(X_train)\n",
        "X_test = sc.transform(X_test)"
      ],
      "metadata": {
        "id": "qKVkd5hGXN03"
      },
      "execution_count": 5,
      "outputs": []
    },
    {
      "cell_type": "code",
      "source": [
        "from sklearn.neighbors import KNeighborsClassifier\n",
        "knn = []\n",
        "for i in range(1,21):\n",
        "            \n",
        "    classifier = KNeighborsClassifier(n_neighbors=i)\n",
        "    trained_model=classifier.fit(X_train,y_train)\n",
        "    trained_model.fit(X_train,y_train )\n",
        "    y_pred = classifier.predict(X_test)\n",
        "    from sklearn.metrics import confusion_matrix\n",
        "    \n",
        "    cm_KNN = confusion_matrix(y_test, y_pred)\n",
        "    print(cm_KNN)\n",
        "    print(\"Accuracy score of train KNN\")\n",
        "    print(accuracy_score(y_train, trained_model.predict(X_train))*100)\n",
        "    \n",
        "    print(\"Accuracy score of test KNN\")\n",
        "    print(accuracy_score(y_test, y_pred)*100)\n",
        "    \n",
        "    knn.append(accuracy_score(y_test, y_pred)*100)"
      ],
      "metadata": {
        "colab": {
          "base_uri": "https://localhost:8080/"
        },
        "id": "hw6tRwPiXUgl",
        "outputId": "3ca55a7c-1508-45ad-f533-952ec5172ca8"
      },
      "execution_count": 7,
      "outputs": [
        {
          "output_type": "stream",
          "name": "stdout",
          "text": [
            "[[161   3]\n",
            " [ 12  69]]\n",
            "Accuracy score of train KNN\n",
            "100.0\n",
            "Accuracy score of test KNN\n",
            "93.87755102040816\n",
            "[[162   2]\n",
            " [ 17  64]]\n",
            "Accuracy score of train KNN\n",
            "96.91629955947137\n",
            "Accuracy score of test KNN\n",
            "92.24489795918367\n",
            "[[159   5]\n",
            " [  3  78]]\n",
            "Accuracy score of train KNN\n",
            "96.91629955947137\n",
            "Accuracy score of test KNN\n",
            "96.73469387755102\n",
            "[[161   3]\n",
            " [  6  75]]\n",
            "Accuracy score of train KNN\n",
            "95.81497797356829\n",
            "Accuracy score of test KNN\n",
            "96.3265306122449\n",
            "[[160   4]\n",
            " [  5  76]]\n",
            "Accuracy score of train KNN\n",
            "95.37444933920705\n",
            "Accuracy score of test KNN\n",
            "96.3265306122449\n",
            "[[162   2]\n",
            " [  7  74]]\n",
            "Accuracy score of train KNN\n",
            "96.0352422907489\n",
            "Accuracy score of test KNN\n",
            "96.3265306122449\n",
            "[[160   4]\n",
            " [  5  76]]\n",
            "Accuracy score of train KNN\n",
            "95.81497797356829\n",
            "Accuracy score of test KNN\n",
            "96.3265306122449\n",
            "[[160   4]\n",
            " [  5  76]]\n",
            "Accuracy score of train KNN\n",
            "96.47577092511013\n",
            "Accuracy score of test KNN\n",
            "96.3265306122449\n",
            "[[160   4]\n",
            " [  5  76]]\n",
            "Accuracy score of train KNN\n",
            "96.47577092511013\n",
            "Accuracy score of test KNN\n",
            "96.3265306122449\n",
            "[[161   3]\n",
            " [  6  75]]\n",
            "Accuracy score of train KNN\n",
            "96.25550660792952\n",
            "Accuracy score of test KNN\n",
            "96.3265306122449\n",
            "[[160   4]\n",
            " [  6  75]]\n",
            "Accuracy score of train KNN\n",
            "96.0352422907489\n",
            "Accuracy score of test KNN\n",
            "95.91836734693877\n",
            "[[160   4]\n",
            " [  6  75]]\n",
            "Accuracy score of train KNN\n",
            "96.47577092511013\n",
            "Accuracy score of test KNN\n",
            "95.91836734693877\n",
            "[[160   4]\n",
            " [  6  75]]\n",
            "Accuracy score of train KNN\n",
            "96.0352422907489\n",
            "Accuracy score of test KNN\n",
            "95.91836734693877\n",
            "[[160   4]\n",
            " [  7  74]]\n",
            "Accuracy score of train KNN\n",
            "95.59471365638767\n",
            "Accuracy score of test KNN\n",
            "95.51020408163265\n",
            "[[160   4]\n",
            " [  6  75]]\n",
            "Accuracy score of train KNN\n",
            "96.25550660792952\n",
            "Accuracy score of test KNN\n",
            "95.91836734693877\n",
            "[[160   4]\n",
            " [  6  75]]\n",
            "Accuracy score of train KNN\n",
            "96.25550660792952\n",
            "Accuracy score of test KNN\n",
            "95.91836734693877\n",
            "[[160   4]\n",
            " [  4  77]]\n",
            "Accuracy score of train KNN\n",
            "96.0352422907489\n",
            "Accuracy score of test KNN\n",
            "96.73469387755102\n",
            "[[160   4]\n",
            " [  6  75]]\n",
            "Accuracy score of train KNN\n",
            "95.81497797356829\n",
            "Accuracy score of test KNN\n",
            "95.91836734693877\n",
            "[[160   4]\n",
            " [  5  76]]\n",
            "Accuracy score of train KNN\n",
            "95.59471365638767\n",
            "Accuracy score of test KNN\n",
            "96.3265306122449\n",
            "[[160   4]\n",
            " [  5  76]]\n",
            "Accuracy score of train KNN\n",
            "95.81497797356829\n",
            "Accuracy score of test KNN\n",
            "96.3265306122449\n"
          ]
        }
      ]
    },
    {
      "cell_type": "code",
      "source": [
        "plt.figure(figsize=(12, 6))  \n",
        "plt.plot(range(1, 21),knn, color='red', linestyle='dashed', marker='o',  markerfacecolor='blue', markersize=10)\n",
        "plt.title('Accuracy for different  K Value')  \n",
        "plt.xlabel('K Value')  \n",
        "plt.ylabel('Accuracy') "
      ],
      "metadata": {
        "colab": {
          "base_uri": "https://localhost:8080/",
          "height": 421
        },
        "id": "DivosWorYDYY",
        "outputId": "c5eff271-d089-4290-f685-3ff9db8927e6"
      },
      "execution_count": 8,
      "outputs": [
        {
          "output_type": "execute_result",
          "data": {
            "text/plain": [
              "Text(0, 0.5, 'Accuracy')"
            ]
          },
          "metadata": {},
          "execution_count": 8
        },
        {
          "output_type": "display_data",
          "data": {
            "text/plain": [
              "<Figure size 864x432 with 1 Axes>"
            ],
            "image/png": "[encoded data removed]"
          },
          "metadata": {
            "needs_background": "light"
          }
        }
      ]
    },
    {
      "cell_type": "code",
      "source": [
        "from sklearn.svm import SVC\n",
        "classifier = SVC(kernel = 'linear', random_state = 0)\n",
        "\n",
        "trained_model=classifier.fit(X_train,y_train)\n",
        "trained_model.fit(X_train,y_train )\n",
        "y_pred = classifier.predict(X_test)\n",
        "from sklearn.metrics import confusion_matrix\n",
        "cm_SVM = confusion_matrix(y_test, y_pred)\n",
        "print(cm_SVM)\n",
        "print(\"Accuracy score of train SVM\")\n",
        "print(accuracy_score(y_train, trained_model.predict(X_train))*100)\n",
        "\n",
        "print(\"Accuracy score of test SVM\")\n",
        "print(accuracy_score(y_test, y_pred)*100)\n"
      ],
      "metadata": {
        "colab": {
          "base_uri": "https://localhost:8080/"
        },
        "id": "qE9HMD52YN4G",
        "outputId": "02f20179-8ce2-4dcd-85f0-6db3bbfe08ca"
      },
      "execution_count": 9,
      "outputs": [
        {
          "output_type": "stream",
          "name": "stdout",
          "text": [
            "[[160   4]\n",
            " [  5  76]]\n",
            "Accuracy score of train SVM\n",
            "96.69603524229075\n",
            "Accuracy score of test SVM\n",
            "96.3265306122449\n"
          ]
        }
      ]
    }
  ]
}